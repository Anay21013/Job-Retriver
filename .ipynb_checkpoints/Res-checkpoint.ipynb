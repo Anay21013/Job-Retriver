{
 "cells": [
  {
   "cell_type": "code",
   "execution_count": 1,
   "metadata": {
    "colab": {
     "base_uri": "https://localhost:8080/"
    },
    "id": "vlItfyCxoLep",
    "outputId": "f840480a-8da0-4ff3-f462-e71591b24ae5"
   },
   "outputs": [
    {
     "name": "stdout",
     "output_type": "stream",
     "text": [
      "Mounted at /content/drive\n"
     ]
    }
   ],
   "source": [
    "from google.colab import drive\n",
    "drive.mount('/content/drive')"
   ]
  },
  {
   "cell_type": "code",
   "execution_count": 6,
   "metadata": {
    "id": "7k3nHo1wv3MW"
   },
   "outputs": [],
   "source": [
    "import os\n",
    "import re\n",
    "import pdfplumber\n",
    "from nltk.tokenize import word_tokenize\n",
    "from nltk.corpus import stopwords\n",
    "from nltk.stem import WordNetLemmatizer\n",
    "from string import punctuation\n",
    "from docx import Document\n",
    "import nltk\n",
    "nltk.download('punkt')\n",
    "nltk.download('stopwords')\n",
    "nltk.download('wordnet')\n",
    "\n"
   ]
  },
  {
   "cell_type": "code",
   "execution_count": 7,
   "metadata": {
    "id": "17mN0CinoZc3"
   },
   "outputs": [],
   "source": [
    "resume_path = \"/content/drive/MyDrive/Sample_Resumes\"\n",
    "output_folder = \"/content/drive/MyDrive/Resume_Details\""
   ]
  },
  {
   "cell_type": "code",
   "execution_count": 4,
   "metadata": {
    "colab": {
     "base_uri": "https://localhost:8080/"
    },
    "id": "Afu7KCXroYii",
    "outputId": "76c0eaca-c6a4-4188-de0b-3438612b428a"
   },
   "outputs": [
    {
     "name": "stderr",
     "output_type": "stream",
     "text": [
      "[nltk_data] Downloading package punkt to /root/nltk_data...\n",
      "[nltk_data]   Package punkt is already up-to-date!\n",
      "[nltk_data] Downloading package stopwords to /root/nltk_data...\n",
      "[nltk_data]   Package stopwords is already up-to-date!\n",
      "[nltk_data] Downloading package wordnet to /root/nltk_data...\n",
      "[nltk_data]   Package wordnet is already up-to-date!\n"
     ]
    },
    {
     "name": "stdout",
     "output_type": "stream",
     "text": [
      "Details extracted from Resume_Narotam.pdf and stored in /content/drive/MyDrive/Resume_Details/Resume_Narotam_details.txt\n",
      "Details extracted from aman resume_IIITD.docx.pdf and stored in /content/drive/MyDrive/Resume_Details/aman resume_IIITD_details.txt\n"
     ]
    }
   ],
   "source": [
    "def parse_pdf(resume_file):\n",
    "    text = \"\"\n",
    "    with pdfplumber.open(resume_file) as pdf:\n",
    "        for page in pdf.pages:\n",
    "            text += page.extract_text()\n",
    "    return text\n",
    "\n",
    "def parse_docx(resume_file):\n",
    "    text = \"\"\n",
    "    doc = Document(resume_file)\n",
    "    for paragraph in doc.paragraphs:\n",
    "        text += paragraph.text + \" \"\n",
    "    return text\n",
    "\n",
    "def preprocess_resume(resume_text):\n",
    "    tokens = word_tokenize(resume_text)\n",
    "    tokens = [word.lower() for word in tokens if word.isalnum()]\n",
    "    stop_words = set(stopwords.words('english'))\n",
    "    tokens = [word for word in tokens if word not in stop_words]\n",
    "    lemmatizer = WordNetLemmatizer()\n",
    "    tokens = [lemmatizer.lemmatize(word) for word in tokens]\n",
    "\n",
    "    return tokens\n",
    "\n",
    "\n",
    "\n"
   ]
  },
  {
   "cell_type": "code",
   "execution_count": 4,
   "metadata": {
    "id": "nU5Vc1G0oYlg"
   },
   "outputs": [],
   "source": [
    "if not os.path.exists(output_folder):\n",
    "    os.makedirs(output_folder)\n",
    "\n",
    "\n",
    "for filename in os.listdir(resume_path):\n",
    "    if filename.endswith(\".pdf\"):\n",
    "        resume_file = os.path.join(resume_path, filename)\n",
    "        text = parse_pdf(resume_file)\n",
    "        details = preprocess_resume(text)\n",
    "    elif filename.endswith(\".docx\"):\n",
    "        resume_file = os.path.join(resume_path, filename)\n",
    "        text = parse_docx(resume_file)\n",
    "        details = preprocess_resume(text)\n",
    "    else:\n",
    "        continue\n",
    "    output_file = os.path.join(output_folder, f\"{filename.split('.')[0]}_details.txt\")\n",
    "    with open(output_file, 'w') as file:\n",
    "        file.write(\" \".join(details))\n",
    "\n",
    "    print(f\"Details extracted from {filename} and stored in {output_file}\")"
   ]
  },
  {
   "cell_type": "code",
   "execution_count": 5,
   "metadata": {
    "id": "aXFkUkuZrqCU"
   },
   "outputs": [],
   "source": []
  },
  {
   "cell_type": "code",
   "execution_count": 5,
   "metadata": {
    "id": "nyQxc5wRrv-2"
   },
   "outputs": [],
   "source": []
  }
 ],
 "metadata": {
  "colab": {
   "provenance": []
  },
  "kernelspec": {
   "display_name": "Python 3 (ipykernel)",
   "language": "python",
   "name": "python3"
  },
  "language_info": {
   "codemirror_mode": {
    "name": "ipython",
    "version": 3
   },
   "file_extension": ".py",
   "mimetype": "text/x-python",
   "name": "python",
   "nbconvert_exporter": "python",
   "pygments_lexer": "ipython3",
   "version": "3.10.12"
  }
 },
 "nbformat": 4,
 "nbformat_minor": 4
}
